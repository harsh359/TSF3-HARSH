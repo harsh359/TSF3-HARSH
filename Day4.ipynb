{
 "cells": [
  {
   "cell_type": "markdown",
   "id": "120a4fdc",
   "metadata": {},
   "source": [
    "Importing libraries"
   ]
  },
  {
   "cell_type": "code",
   "execution_count": 162,
   "id": "6edad218",
   "metadata": {},
   "outputs": [],
   "source": [
    "import pandas as pd\n",
    "import re\n",
    "import numpy as np \n",
    "import nltk\n",
    "import spacy"
   ]
  },
  {
   "cell_type": "code",
   "execution_count": 163,
   "id": "19def56c",
   "metadata": {},
   "outputs": [],
   "source": [
    "from nltk.tokenize import sent_tokenize\n",
    "from nltk.tokenize import word_tokenize\n",
    "from spacy.lang.en.stop_words import STOP_WORDS"
   ]
  },
  {
   "cell_type": "markdown",
   "id": "0987a388",
   "metadata": {},
   "source": [
    "Creating Pandas DataFrame of .json file "
   ]
  },
  {
   "cell_type": "code",
   "execution_count": 49,
   "id": "eec3a4a0",
   "metadata": {},
   "outputs": [],
   "source": [
    "data = pd.read_json(\"Day_4_text_preprocessing.json\",lines=True)"
   ]
  },
  {
   "cell_type": "code",
   "execution_count": 50,
   "id": "45ca748b",
   "metadata": {},
   "outputs": [
    {
     "data": {
      "text/html": [
       "<div>\n",
       "<style scoped>\n",
       "    .dataframe tbody tr th:only-of-type {\n",
       "        vertical-align: middle;\n",
       "    }\n",
       "\n",
       "    .dataframe tbody tr th {\n",
       "        vertical-align: top;\n",
       "    }\n",
       "\n",
       "    .dataframe thead th {\n",
       "        text-align: right;\n",
       "    }\n",
       "</style>\n",
       "<table border=\"1\" class=\"dataframe\">\n",
       "  <thead>\n",
       "    <tr style=\"text-align: right;\">\n",
       "      <th></th>\n",
       "      <th>text</th>\n",
       "      <th>meta</th>\n",
       "    </tr>\n",
       "  </thead>\n",
       "  <tbody>\n",
       "    <tr>\n",
       "      <th>0</th>\n",
       "      <td>Mohit Rao Niwadunge\\n\\t \\t Email ID mohit.niwa...</td>\n",
       "      <td>{'source': 'E:\\Resume Parser\\resume parser\\dat...</td>\n",
       "    </tr>\n",
       "    <tr>\n",
       "      <th>1</th>\n",
       "      <td>ABHAY RAJ SINGH\\nBusiness Analyst \\nPROFESSION...</td>\n",
       "      <td>{'source': 'E:\\Resume Parser\\resume parser\\dat...</td>\n",
       "    </tr>\n",
       "    <tr>\n",
       "      <th>2</th>\n",
       "      <td>Abhilasha Shrivastava\\nE-Mail abhilasha101@gma...</td>\n",
       "      <td>{'source': 'E:\\Resume Parser\\resume parser\\dat...</td>\n",
       "    </tr>\n",
       "    <tr>\n",
       "      <th>3</th>\n",
       "      <td>.\\nABHISHEK SINGH THAKUR\\nUI UX DESIGNER \\nH.N...</td>\n",
       "      <td>{'source': 'E:\\Resume Parser\\resume parser\\dat...</td>\n",
       "    </tr>\n",
       "    <tr>\n",
       "      <th>4</th>\n",
       "      <td>AMAN DAVID\\n115-B Anand Nagar Gawali Palasia, ...</td>\n",
       "      <td>{'source': 'E:\\Resume Parser\\resume parser\\dat...</td>\n",
       "    </tr>\n",
       "  </tbody>\n",
       "</table>\n",
       "</div>"
      ],
      "text/plain": [
       "                                                text  \\\n",
       "0  Mohit Rao Niwadunge\\n\\t \\t Email ID mohit.niwa...   \n",
       "1  ABHAY RAJ SINGH\\nBusiness Analyst \\nPROFESSION...   \n",
       "2  Abhilasha Shrivastava\\nE-Mail abhilasha101@gma...   \n",
       "3  .\\nABHISHEK SINGH THAKUR\\nUI UX DESIGNER \\nH.N...   \n",
       "4  AMAN DAVID\\n115-B Anand Nagar Gawali Palasia, ...   \n",
       "\n",
       "                                                meta  \n",
       "0  {'source': 'E:\\Resume Parser\\resume parser\\dat...  \n",
       "1  {'source': 'E:\\Resume Parser\\resume parser\\dat...  \n",
       "2  {'source': 'E:\\Resume Parser\\resume parser\\dat...  \n",
       "3  {'source': 'E:\\Resume Parser\\resume parser\\dat...  \n",
       "4  {'source': 'E:\\Resume Parser\\resume parser\\dat...  "
      ]
     },
     "execution_count": 50,
     "metadata": {},
     "output_type": "execute_result"
    }
   ],
   "source": [
    "data.head()"
   ]
  },
  {
   "cell_type": "code",
   "execution_count": 51,
   "id": "1d4714fc",
   "metadata": {},
   "outputs": [
    {
     "data": {
      "text/plain": [
       "(5, 2)"
      ]
     },
     "execution_count": 51,
     "metadata": {},
     "output_type": "execute_result"
    }
   ],
   "source": [
    "data.shape"
   ]
  },
  {
   "cell_type": "code",
   "execution_count": 52,
   "id": "c8f795c5",
   "metadata": {},
   "outputs": [],
   "source": [
    "df =data.drop(['meta'],axis=1)"
   ]
  },
  {
   "cell_type": "code",
   "execution_count": 53,
   "id": "bf723bfd",
   "metadata": {},
   "outputs": [
    {
     "data": {
      "text/plain": [
       "text    ABHAY RAJ SINGH\\nBusiness Analyst \\nPROFESSION...\n",
       "Name: 1, dtype: object"
      ]
     },
     "execution_count": 53,
     "metadata": {},
     "output_type": "execute_result"
    }
   ],
   "source": [
    "df.iloc[1]"
   ]
  },
  {
   "cell_type": "code",
   "execution_count": 54,
   "id": "2d70ab8c",
   "metadata": {},
   "outputs": [
    {
     "data": {
      "text/plain": [
       "0    Mohit Rao Niwadunge\\n\\t \\t Email ID mohit.niwa...\n",
       "1    ABHAY RAJ SINGH\\nBusiness Analyst \\nPROFESSION...\n",
       "2    Abhilasha Shrivastava\\nE-Mail abhilasha101@gma...\n",
       "3    .\\nABHISHEK SINGH THAKUR\\nUI UX DESIGNER \\nH.N...\n",
       "4    AMAN DAVID\\n115-B Anand Nagar Gawali Palasia, ...\n",
       "Name: text, dtype: object"
      ]
     },
     "execution_count": 54,
     "metadata": {},
     "output_type": "execute_result"
    }
   ],
   "source": [
    "df['text']"
   ]
  },
  {
   "cell_type": "markdown",
   "id": "ad6adf69",
   "metadata": {},
   "source": [
    "Extracting Emailsfrom DataFrame "
   ]
  },
  {
   "cell_type": "code",
   "execution_count": 55,
   "id": "228370be",
   "metadata": {},
   "outputs": [],
   "source": [
    "df['Email_address']=df['text'].str.findall(r'[a-z0-9\\.\\-+_]+@[a-z0-9\\.\\-+_]+\\.[a-z]+')"
   ]
  },
  {
   "cell_type": "code",
   "execution_count": 56,
   "id": "bc7b5012",
   "metadata": {},
   "outputs": [
    {
     "data": {
      "text/plain": [
       "0       [mohit.niwadunge@gmail.com]\n",
       "1                                []\n",
       "2          [abhilasha101@gmail.com]\n",
       "3    [abhishekthakur2006@gmail.com]\n",
       "4           [man.david12@gmail.com]\n",
       "Name: Email_address, dtype: object"
      ]
     },
     "execution_count": 56,
     "metadata": {},
     "output_type": "execute_result"
    }
   ],
   "source": [
    "df['Email_address']"
   ]
  },
  {
   "cell_type": "markdown",
   "id": "2c3e6251",
   "metadata": {},
   "source": [
    "Extracting Contact numbers from DataFrame "
   ]
  },
  {
   "cell_type": "code",
   "execution_count": 106,
   "id": "681c53d2",
   "metadata": {},
   "outputs": [],
   "source": [
    "df['Contact No']=df['text'].str.findall(r'\\b[789]\\d{9}\\b')"
   ]
  },
  {
   "cell_type": "code",
   "execution_count": 108,
   "id": "57234527",
   "metadata": {},
   "outputs": [
    {
     "data": {
      "text/plain": [
       "0                [7000526216]\n",
       "1                          []\n",
       "2                [7415857918]\n",
       "3                [9302761661]\n",
       "4    [7987613585, 8818868853]\n",
       "Name: Contact No, dtype: object"
      ]
     },
     "execution_count": 108,
     "metadata": {},
     "output_type": "execute_result"
    }
   ],
   "source": [
    "df['Contact No']"
   ]
  },
  {
   "cell_type": "code",
   "execution_count": 109,
   "id": "f0ed11d7",
   "metadata": {},
   "outputs": [
    {
     "data": {
      "text/html": [
       "<div>\n",
       "<style scoped>\n",
       "    .dataframe tbody tr th:only-of-type {\n",
       "        vertical-align: middle;\n",
       "    }\n",
       "\n",
       "    .dataframe tbody tr th {\n",
       "        vertical-align: top;\n",
       "    }\n",
       "\n",
       "    .dataframe thead th {\n",
       "        text-align: right;\n",
       "    }\n",
       "</style>\n",
       "<table border=\"1\" class=\"dataframe\">\n",
       "  <thead>\n",
       "    <tr style=\"text-align: right;\">\n",
       "      <th></th>\n",
       "      <th>text</th>\n",
       "      <th>Email_address</th>\n",
       "      <th>Phone_number_alt</th>\n",
       "      <th>years</th>\n",
       "      <th>Contact No</th>\n",
       "    </tr>\n",
       "  </thead>\n",
       "  <tbody>\n",
       "    <tr>\n",
       "      <th>0</th>\n",
       "      <td>Mohit Rao Niwadunge\\n\\t \\t Email ID mohit.niwa...</td>\n",
       "      <td>[mohit.niwadunge@gmail.com]</td>\n",
       "      <td>[7000526216]</td>\n",
       "      <td>[2009, 2013, 2009, 2007]</td>\n",
       "      <td>[7000526216]</td>\n",
       "    </tr>\n",
       "    <tr>\n",
       "      <th>1</th>\n",
       "      <td>ABHAY RAJ SINGH\\nBusiness Analyst \\nPROFESSION...</td>\n",
       "      <td>[]</td>\n",
       "      <td>[]</td>\n",
       "      <td>[2014, 1991]</td>\n",
       "      <td>[]</td>\n",
       "    </tr>\n",
       "    <tr>\n",
       "      <th>2</th>\n",
       "      <td>Abhilasha Shrivastava\\nE-Mail abhilasha101@gma...</td>\n",
       "      <td>[abhilasha101@gmail.com]</td>\n",
       "      <td>[7415857918]</td>\n",
       "      <td>[2013, 2010, 2012, 2000, 2013, 1987]</td>\n",
       "      <td>[7415857918]</td>\n",
       "    </tr>\n",
       "    <tr>\n",
       "      <th>3</th>\n",
       "      <td>.\\nABHISHEK SINGH THAKUR\\nUI UX DESIGNER \\nH.N...</td>\n",
       "      <td>[abhishekthakur2006@gmail.com]</td>\n",
       "      <td>[9302761661]</td>\n",
       "      <td>[2016, 1045, 2009, 2012, 2012, 2016, 2003, 200...</td>\n",
       "      <td>[9302761661]</td>\n",
       "    </tr>\n",
       "    <tr>\n",
       "      <th>4</th>\n",
       "      <td>AMAN DAVID\\n115-B Anand Nagar Gawali Palasia, ...</td>\n",
       "      <td>[man.david12@gmail.com]</td>\n",
       "      <td>[7987613585, 8818868853]</td>\n",
       "      <td>[2013, 2016, 1983, 2013, 2016, 2014]</td>\n",
       "      <td>[7987613585, 8818868853]</td>\n",
       "    </tr>\n",
       "  </tbody>\n",
       "</table>\n",
       "</div>"
      ],
      "text/plain": [
       "                                                text  \\\n",
       "0  Mohit Rao Niwadunge\\n\\t \\t Email ID mohit.niwa...   \n",
       "1  ABHAY RAJ SINGH\\nBusiness Analyst \\nPROFESSION...   \n",
       "2  Abhilasha Shrivastava\\nE-Mail abhilasha101@gma...   \n",
       "3  .\\nABHISHEK SINGH THAKUR\\nUI UX DESIGNER \\nH.N...   \n",
       "4  AMAN DAVID\\n115-B Anand Nagar Gawali Palasia, ...   \n",
       "\n",
       "                    Email_address          Phone_number_alt  \\\n",
       "0     [mohit.niwadunge@gmail.com]              [7000526216]   \n",
       "1                              []                        []   \n",
       "2        [abhilasha101@gmail.com]              [7415857918]   \n",
       "3  [abhishekthakur2006@gmail.com]              [9302761661]   \n",
       "4         [man.david12@gmail.com]  [7987613585, 8818868853]   \n",
       "\n",
       "                                               years                Contact No  \n",
       "0                           [2009, 2013, 2009, 2007]              [7000526216]  \n",
       "1                                       [2014, 1991]                        []  \n",
       "2               [2013, 2010, 2012, 2000, 2013, 1987]              [7415857918]  \n",
       "3  [2016, 1045, 2009, 2012, 2012, 2016, 2003, 200...              [9302761661]  \n",
       "4               [2013, 2016, 1983, 2013, 2016, 2014]  [7987613585, 8818868853]  "
      ]
     },
     "execution_count": 109,
     "metadata": {},
     "output_type": "execute_result"
    }
   ],
   "source": [
    "df.head()"
   ]
  },
  {
   "cell_type": "markdown",
   "id": "c7b26413",
   "metadata": {},
   "source": [
    "Extracting Date/years from DataFrame "
   ]
  },
  {
   "cell_type": "code",
   "execution_count": 110,
   "id": "753ffdc0",
   "metadata": {},
   "outputs": [],
   "source": [
    "df['years'] = df['text'].str.findall(r'\\b[12]\\d{3}\\b')"
   ]
  },
  {
   "cell_type": "code",
   "execution_count": 111,
   "id": "c76d204c",
   "metadata": {},
   "outputs": [
    {
     "data": {
      "text/plain": [
       "0                             [2009, 2013, 2009, 2007]\n",
       "1                                         [2014, 1991]\n",
       "2                 [2013, 2010, 2012, 2000, 2013, 1987]\n",
       "3    [2016, 1045, 2009, 2012, 2012, 2016, 2003, 200...\n",
       "4                 [2013, 2016, 1983, 2013, 2016, 2014]\n",
       "Name: years, dtype: object"
      ]
     },
     "execution_count": 111,
     "metadata": {},
     "output_type": "execute_result"
    }
   ],
   "source": [
    "df['years']"
   ]
  },
  {
   "cell_type": "code",
   "execution_count": 112,
   "id": "8c861e07",
   "metadata": {},
   "outputs": [
    {
     "data": {
      "text/plain": [
       "Index(['text', 'Email_address', 'Phone_number_alt', 'years', 'Contact No'], dtype='object')"
      ]
     },
     "execution_count": 112,
     "metadata": {},
     "output_type": "execute_result"
    }
   ],
   "source": [
    "df.columns"
   ]
  },
  {
   "cell_type": "code",
   "execution_count": 114,
   "id": "e95e0fd5",
   "metadata": {},
   "outputs": [],
   "source": [
    "del df['Phone_number_alt']"
   ]
  },
  {
   "cell_type": "code",
   "execution_count": 115,
   "id": "b2425530",
   "metadata": {},
   "outputs": [
    {
     "data": {
      "text/html": [
       "<div>\n",
       "<style scoped>\n",
       "    .dataframe tbody tr th:only-of-type {\n",
       "        vertical-align: middle;\n",
       "    }\n",
       "\n",
       "    .dataframe tbody tr th {\n",
       "        vertical-align: top;\n",
       "    }\n",
       "\n",
       "    .dataframe thead th {\n",
       "        text-align: right;\n",
       "    }\n",
       "</style>\n",
       "<table border=\"1\" class=\"dataframe\">\n",
       "  <thead>\n",
       "    <tr style=\"text-align: right;\">\n",
       "      <th></th>\n",
       "      <th>text</th>\n",
       "      <th>Email_address</th>\n",
       "      <th>years</th>\n",
       "      <th>Contact No</th>\n",
       "    </tr>\n",
       "  </thead>\n",
       "  <tbody>\n",
       "    <tr>\n",
       "      <th>0</th>\n",
       "      <td>Mohit Rao Niwadunge\\n\\t \\t Email ID mohit.niwa...</td>\n",
       "      <td>[mohit.niwadunge@gmail.com]</td>\n",
       "      <td>[2009, 2013, 2009, 2007]</td>\n",
       "      <td>[7000526216]</td>\n",
       "    </tr>\n",
       "    <tr>\n",
       "      <th>1</th>\n",
       "      <td>ABHAY RAJ SINGH\\nBusiness Analyst \\nPROFESSION...</td>\n",
       "      <td>[]</td>\n",
       "      <td>[2014, 1991]</td>\n",
       "      <td>[]</td>\n",
       "    </tr>\n",
       "    <tr>\n",
       "      <th>2</th>\n",
       "      <td>Abhilasha Shrivastava\\nE-Mail abhilasha101@gma...</td>\n",
       "      <td>[abhilasha101@gmail.com]</td>\n",
       "      <td>[2013, 2010, 2012, 2000, 2013, 1987]</td>\n",
       "      <td>[7415857918]</td>\n",
       "    </tr>\n",
       "    <tr>\n",
       "      <th>3</th>\n",
       "      <td>.\\nABHISHEK SINGH THAKUR\\nUI UX DESIGNER \\nH.N...</td>\n",
       "      <td>[abhishekthakur2006@gmail.com]</td>\n",
       "      <td>[2016, 1045, 2009, 2012, 2012, 2016, 2003, 200...</td>\n",
       "      <td>[9302761661]</td>\n",
       "    </tr>\n",
       "    <tr>\n",
       "      <th>4</th>\n",
       "      <td>AMAN DAVID\\n115-B Anand Nagar Gawali Palasia, ...</td>\n",
       "      <td>[man.david12@gmail.com]</td>\n",
       "      <td>[2013, 2016, 1983, 2013, 2016, 2014]</td>\n",
       "      <td>[7987613585, 8818868853]</td>\n",
       "    </tr>\n",
       "  </tbody>\n",
       "</table>\n",
       "</div>"
      ],
      "text/plain": [
       "                                                text  \\\n",
       "0  Mohit Rao Niwadunge\\n\\t \\t Email ID mohit.niwa...   \n",
       "1  ABHAY RAJ SINGH\\nBusiness Analyst \\nPROFESSION...   \n",
       "2  Abhilasha Shrivastava\\nE-Mail abhilasha101@gma...   \n",
       "3  .\\nABHISHEK SINGH THAKUR\\nUI UX DESIGNER \\nH.N...   \n",
       "4  AMAN DAVID\\n115-B Anand Nagar Gawali Palasia, ...   \n",
       "\n",
       "                    Email_address  \\\n",
       "0     [mohit.niwadunge@gmail.com]   \n",
       "1                              []   \n",
       "2        [abhilasha101@gmail.com]   \n",
       "3  [abhishekthakur2006@gmail.com]   \n",
       "4         [man.david12@gmail.com]   \n",
       "\n",
       "                                               years                Contact No  \n",
       "0                           [2009, 2013, 2009, 2007]              [7000526216]  \n",
       "1                                       [2014, 1991]                        []  \n",
       "2               [2013, 2010, 2012, 2000, 2013, 1987]              [7415857918]  \n",
       "3  [2016, 1045, 2009, 2012, 2012, 2016, 2003, 200...              [9302761661]  \n",
       "4               [2013, 2016, 1983, 2013, 2016, 2014]  [7987613585, 8818868853]  "
      ]
     },
     "execution_count": 115,
     "metadata": {},
     "output_type": "execute_result"
    }
   ],
   "source": [
    "df.head()"
   ]
  },
  {
   "cell_type": "code",
   "execution_count": 136,
   "id": "f7301ef2",
   "metadata": {},
   "outputs": [
    {
     "name": "stdout",
     "output_type": "stream",
     "text": [
      "Requirement already satisfied: spacy in c:\\users\\codiant\\anaconda3\\lib\\site-packages (3.2.1)\n",
      "Requirement already satisfied: tqdm<5.0.0,>=4.38.0 in c:\\users\\codiant\\anaconda3\\lib\\site-packages (from spacy) (4.62.3)\n",
      "Requirement already satisfied: typer<0.5.0,>=0.3.0 in c:\\users\\codiant\\anaconda3\\lib\\site-packages (from spacy) (0.4.0)\n",
      "Requirement already satisfied: wasabi<1.1.0,>=0.8.1 in c:\\users\\codiant\\anaconda3\\lib\\site-packages (from spacy) (0.9.0)\n",
      "Requirement already satisfied: requests<3.0.0,>=2.13.0 in c:\\users\\codiant\\anaconda3\\lib\\site-packages (from spacy) (2.26.0)\n",
      "Requirement already satisfied: murmurhash<1.1.0,>=0.28.0 in c:\\users\\codiant\\anaconda3\\lib\\site-packages (from spacy) (1.0.6)\n",
      "Requirement already satisfied: pathy>=0.3.5 in c:\\users\\codiant\\anaconda3\\lib\\site-packages (from spacy) (0.6.1)\n",
      "Requirement already satisfied: numpy>=1.15.0 in c:\\users\\codiant\\anaconda3\\lib\\site-packages (from spacy) (1.20.3)\n",
      "Requirement already satisfied: cymem<2.1.0,>=2.0.2 in c:\\users\\codiant\\anaconda3\\lib\\site-packages (from spacy) (2.0.6)\n",
      "Requirement already satisfied: jinja2 in c:\\users\\codiant\\anaconda3\\lib\\site-packages (from spacy) (2.11.3)\n",
      "Requirement already satisfied: blis<0.8.0,>=0.4.0 in c:\\users\\codiant\\anaconda3\\lib\\site-packages (from spacy) (0.7.5)\n",
      "Requirement already satisfied: srsly<3.0.0,>=2.4.1 in c:\\users\\codiant\\anaconda3\\lib\\site-packages (from spacy) (2.4.2)\n",
      "Requirement already satisfied: catalogue<2.1.0,>=2.0.6 in c:\\users\\codiant\\anaconda3\\lib\\site-packages (from spacy) (2.0.6)\n",
      "Requirement already satisfied: langcodes<4.0.0,>=3.2.0 in c:\\users\\codiant\\anaconda3\\lib\\site-packages (from spacy) (3.3.0)\n",
      "Requirement already satisfied: setuptools in c:\\users\\codiant\\anaconda3\\lib\\site-packages (from spacy) (58.0.4)\n",
      "Requirement already satisfied: thinc<8.1.0,>=8.0.12 in c:\\users\\codiant\\anaconda3\\lib\\site-packages (from spacy) (8.0.13)\n",
      "Requirement already satisfied: spacy-legacy<3.1.0,>=3.0.8 in c:\\users\\codiant\\anaconda3\\lib\\site-packages (from spacy) (3.0.8)\n",
      "Requirement already satisfied: preshed<3.1.0,>=3.0.2 in c:\\users\\codiant\\anaconda3\\lib\\site-packages (from spacy) (3.0.6)\n",
      "Requirement already satisfied: pydantic!=1.8,!=1.8.1,<1.9.0,>=1.7.4 in c:\\users\\codiant\\anaconda3\\lib\\site-packages (from spacy) (1.8.2)\n",
      "Requirement already satisfied: spacy-loggers<2.0.0,>=1.0.0 in c:\\users\\codiant\\anaconda3\\lib\\site-packages (from spacy) (1.0.1)\n",
      "Requirement already satisfied: packaging>=20.0 in c:\\users\\codiant\\anaconda3\\lib\\site-packages (from spacy) (21.0)\n",
      "Requirement already satisfied: pyparsing>=2.0.2 in c:\\users\\codiant\\anaconda3\\lib\\site-packages (from packaging>=20.0->spacy) (3.0.4)\n",
      "Requirement already satisfied: smart-open<6.0.0,>=5.0.0 in c:\\users\\codiant\\anaconda3\\lib\\site-packages (from pathy>=0.3.5->spacy) (5.2.1)\n",
      "Requirement already satisfied: typing-extensions>=3.7.4.3 in c:\\users\\codiant\\anaconda3\\lib\\site-packages (from pydantic!=1.8,!=1.8.1,<1.9.0,>=1.7.4->spacy) (3.10.0.2)\n",
      "Requirement already satisfied: certifi>=2017.4.17 in c:\\users\\codiant\\anaconda3\\lib\\site-packages (from requests<3.0.0,>=2.13.0->spacy) (2021.10.8)\n",
      "Requirement already satisfied: urllib3<1.27,>=1.21.1 in c:\\users\\codiant\\anaconda3\\lib\\site-packages (from requests<3.0.0,>=2.13.0->spacy) (1.26.7)\n",
      "Requirement already satisfied: idna<4,>=2.5 in c:\\users\\codiant\\anaconda3\\lib\\site-packages (from requests<3.0.0,>=2.13.0->spacy) (3.2)\n",
      "Requirement already satisfied: charset-normalizer~=2.0.0 in c:\\users\\codiant\\anaconda3\\lib\\site-packages (from requests<3.0.0,>=2.13.0->spacy) (2.0.4)\n",
      "Requirement already satisfied: colorama in c:\\users\\codiant\\anaconda3\\lib\\site-packages (from tqdm<5.0.0,>=4.38.0->spacy) (0.4.4)\n",
      "Requirement already satisfied: click<9.0.0,>=7.1.1 in c:\\users\\codiant\\anaconda3\\lib\\site-packages (from typer<0.5.0,>=0.3.0->spacy) (8.0.3)\n",
      "Requirement already satisfied: MarkupSafe>=0.23 in c:\\users\\codiant\\anaconda3\\lib\\site-packages (from jinja2->spacy) (1.1.1)\n",
      "Collecting en-core-web-sm==3.2.0\n",
      "  Downloading https://github.com/explosion/spacy-models/releases/download/en_core_web_sm-3.2.0/en_core_web_sm-3.2.0-py3-none-any.whl (13.9 MB)\n",
      "Requirement already satisfied: spacy<3.3.0,>=3.2.0 in c:\\users\\codiant\\anaconda3\\lib\\site-packages (from en-core-web-sm==3.2.0) (3.2.1)\n",
      "Requirement already satisfied: murmurhash<1.1.0,>=0.28.0 in c:\\users\\codiant\\anaconda3\\lib\\site-packages (from spacy<3.3.0,>=3.2.0->en-core-web-sm==3.2.0) (1.0.6)\n",
      "Requirement already satisfied: wasabi<1.1.0,>=0.8.1 in c:\\users\\codiant\\anaconda3\\lib\\site-packages (from spacy<3.3.0,>=3.2.0->en-core-web-sm==3.2.0) (0.9.0)\n",
      "Requirement already satisfied: cymem<2.1.0,>=2.0.2 in c:\\users\\codiant\\anaconda3\\lib\\site-packages (from spacy<3.3.0,>=3.2.0->en-core-web-sm==3.2.0) (2.0.6)\n",
      "Requirement already satisfied: blis<0.8.0,>=0.4.0 in c:\\users\\codiant\\anaconda3\\lib\\site-packages (from spacy<3.3.0,>=3.2.0->en-core-web-sm==3.2.0) (0.7.5)\n",
      "Requirement already satisfied: srsly<3.0.0,>=2.4.1 in c:\\users\\codiant\\anaconda3\\lib\\site-packages (from spacy<3.3.0,>=3.2.0->en-core-web-sm==3.2.0) (2.4.2)\n",
      "Requirement already satisfied: pydantic!=1.8,!=1.8.1,<1.9.0,>=1.7.4 in c:\\users\\codiant\\anaconda3\\lib\\site-packages (from spacy<3.3.0,>=3.2.0->en-core-web-sm==3.2.0) (1.8.2)\n",
      "Requirement already satisfied: tqdm<5.0.0,>=4.38.0 in c:\\users\\codiant\\anaconda3\\lib\\site-packages (from spacy<3.3.0,>=3.2.0->en-core-web-sm==3.2.0) (4.62.3)\n",
      "Requirement already satisfied: setuptools in c:\\users\\codiant\\anaconda3\\lib\\site-packages (from spacy<3.3.0,>=3.2.0->en-core-web-sm==3.2.0) (58.0.4)\n",
      "Requirement already satisfied: packaging>=20.0 in c:\\users\\codiant\\anaconda3\\lib\\site-packages (from spacy<3.3.0,>=3.2.0->en-core-web-sm==3.2.0) (21.0)\n",
      "Requirement already satisfied: langcodes<4.0.0,>=3.2.0 in c:\\users\\codiant\\anaconda3\\lib\\site-packages (from spacy<3.3.0,>=3.2.0->en-core-web-sm==3.2.0) (3.3.0)\n",
      "Requirement already satisfied: jinja2 in c:\\users\\codiant\\anaconda3\\lib\\site-packages (from spacy<3.3.0,>=3.2.0->en-core-web-sm==3.2.0) (2.11.3)\n",
      "Requirement already satisfied: catalogue<2.1.0,>=2.0.6 in c:\\users\\codiant\\anaconda3\\lib\\site-packages (from spacy<3.3.0,>=3.2.0->en-core-web-sm==3.2.0) (2.0.6)\n",
      "Requirement already satisfied: spacy-loggers<2.0.0,>=1.0.0 in c:\\users\\codiant\\anaconda3\\lib\\site-packages (from spacy<3.3.0,>=3.2.0->en-core-web-sm==3.2.0) (1.0.1)\n",
      "Requirement already satisfied: requests<3.0.0,>=2.13.0 in c:\\users\\codiant\\anaconda3\\lib\\site-packages (from spacy<3.3.0,>=3.2.0->en-core-web-sm==3.2.0) (2.26.0)\n",
      "Requirement already satisfied: thinc<8.1.0,>=8.0.12 in c:\\users\\codiant\\anaconda3\\lib\\site-packages (from spacy<3.3.0,>=3.2.0->en-core-web-sm==3.2.0) (8.0.13)\n",
      "Requirement already satisfied: pathy>=0.3.5 in c:\\users\\codiant\\anaconda3\\lib\\site-packages (from spacy<3.3.0,>=3.2.0->en-core-web-sm==3.2.0) (0.6.1)\n",
      "Requirement already satisfied: spacy-legacy<3.1.0,>=3.0.8 in c:\\users\\codiant\\anaconda3\\lib\\site-packages (from spacy<3.3.0,>=3.2.0->en-core-web-sm==3.2.0) (3.0.8)\n",
      "Requirement already satisfied: numpy>=1.15.0 in c:\\users\\codiant\\anaconda3\\lib\\site-packages (from spacy<3.3.0,>=3.2.0->en-core-web-sm==3.2.0) (1.20.3)\n",
      "Requirement already satisfied: typer<0.5.0,>=0.3.0 in c:\\users\\codiant\\anaconda3\\lib\\site-packages (from spacy<3.3.0,>=3.2.0->en-core-web-sm==3.2.0) (0.4.0)\n",
      "Requirement already satisfied: preshed<3.1.0,>=3.0.2 in c:\\users\\codiant\\anaconda3\\lib\\site-packages (from spacy<3.3.0,>=3.2.0->en-core-web-sm==3.2.0) (3.0.6)\n",
      "Requirement already satisfied: pyparsing>=2.0.2 in c:\\users\\codiant\\anaconda3\\lib\\site-packages (from packaging>=20.0->spacy<3.3.0,>=3.2.0->en-core-web-sm==3.2.0) (3.0.4)\n",
      "Requirement already satisfied: smart-open<6.0.0,>=5.0.0 in c:\\users\\codiant\\anaconda3\\lib\\site-packages (from pathy>=0.3.5->spacy<3.3.0,>=3.2.0->en-core-web-sm==3.2.0) (5.2.1)\n",
      "Requirement already satisfied: typing-extensions>=3.7.4.3 in c:\\users\\codiant\\anaconda3\\lib\\site-packages (from pydantic!=1.8,!=1.8.1,<1.9.0,>=1.7.4->spacy<3.3.0,>=3.2.0->en-core-web-sm==3.2.0) (3.10.0.2)\n",
      "Requirement already satisfied: urllib3<1.27,>=1.21.1 in c:\\users\\codiant\\anaconda3\\lib\\site-packages (from requests<3.0.0,>=2.13.0->spacy<3.3.0,>=3.2.0->en-core-web-sm==3.2.0) (1.26.7)\n",
      "Requirement already satisfied: certifi>=2017.4.17 in c:\\users\\codiant\\anaconda3\\lib\\site-packages (from requests<3.0.0,>=2.13.0->spacy<3.3.0,>=3.2.0->en-core-web-sm==3.2.0) (2021.10.8)\n",
      "Requirement already satisfied: idna<4,>=2.5 in c:\\users\\codiant\\anaconda3\\lib\\site-packages (from requests<3.0.0,>=2.13.0->spacy<3.3.0,>=3.2.0->en-core-web-sm==3.2.0) (3.2)\n",
      "Requirement already satisfied: charset-normalizer~=2.0.0 in c:\\users\\codiant\\anaconda3\\lib\\site-packages (from requests<3.0.0,>=2.13.0->spacy<3.3.0,>=3.2.0->en-core-web-sm==3.2.0) (2.0.4)\n",
      "Requirement already satisfied: colorama in c:\\users\\codiant\\anaconda3\\lib\\site-packages (from tqdm<5.0.0,>=4.38.0->spacy<3.3.0,>=3.2.0->en-core-web-sm==3.2.0) (0.4.4)\n",
      "Requirement already satisfied: click<9.0.0,>=7.1.1 in c:\\users\\codiant\\anaconda3\\lib\\site-packages (from typer<0.5.0,>=0.3.0->spacy<3.3.0,>=3.2.0->en-core-web-sm==3.2.0) (8.0.3)\n",
      "Requirement already satisfied: MarkupSafe>=0.23 in c:\\users\\codiant\\anaconda3\\lib\\site-packages (from jinja2->spacy<3.3.0,>=3.2.0->en-core-web-sm==3.2.0) (1.1.1)\n",
      "[!] As of spaCy v3.0, shortcuts like 'en' are deprecated. Please use the full\n",
      "pipeline package name 'en_core_web_sm' instead.\n",
      "[+] Download and installation successful\n",
      "You can now load the package via spacy.load('en_core_web_sm')\n"
     ]
    }
   ],
   "source": [
    "!pip install spacy\n",
    "!python -m spacy download en"
   ]
  },
  {
   "cell_type": "code",
   "execution_count": 138,
   "id": "8462f61b",
   "metadata": {},
   "outputs": [],
   "source": [
    "from spacy.lang.en import English\n",
    "nlp = English()"
   ]
  },
  {
   "cell_type": "markdown",
   "id": "e1bbe192",
   "metadata": {},
   "source": [
    "Preparing text coloumn value to tokenize"
   ]
  },
  {
   "cell_type": "code",
   "execution_count": 147,
   "id": "6f71813b",
   "metadata": {},
   "outputs": [],
   "source": [
    "first_text = df.loc[0, 'text']\n",
    "second_text = df.loc[1, 'text']\n",
    "third_text = df.loc[2, 'text']\n",
    "fourth_text = df.loc[3, 'text']\n",
    "fifth_text = df.loc[4, 'text']"
   ]
  },
  {
   "cell_type": "code",
   "execution_count": 148,
   "id": "d0b453c6",
   "metadata": {},
   "outputs": [
    {
     "data": {
      "text/plain": [
       "'ABHAY RAJ SINGH\\nBusiness Analyst \\nPROFESSIONAL SYNOPSIS\\n3 years and 8 month of experience as a Business Analyst and Project Coordination in the IT industries expertise in full software life-cycle implementation, Agile Mythology, production support, Requirements Gathering enhancement from business analysis and Project Coordination to managing complex IT projects. \\nMade successful use of the opportunity to become part of vendor management and negotiations. Successfully managed high-profile regulatory and compliance projects globally. Leverage technical, business and financial acumen to communicate effectively with client executives and their respective teams. \\nResourceful at maintaining relationships with clients to achieve quality product and service norms by resolving their service related critical issues, possess effective communication, interpersonal, problem solving ,understanding of SDLC processes and Agile flavored development methodologies Waterfall, Scrum, Agile Framework, Principles . \\nKEY SKILLS \\n\\t Project Management \\t \\nBusiness Analysis \\nAgile Mythology \\nProject Coordination Wire-framing and Prototype \\nRequirements Gathering Team Management \\nBug Fixing / Maintenance BRD, SRS, FRD documentation. \\n\\t \\nCORE COMPETENCIES \\nExtensive experience of managing complex projects and product developments in the role of Product Owner \\nExperience of working in synchronization with internal teams as Development QA and Project Manager. \\nKnowledge of complete workflow of Scrum with product backlog, user story, sprint planning and release phases. \\nConstantly studied and developed in-depth knowledge of industry trends, product line, competition, tech support and services. \\nMapping client s needs providing best products to suit their requirements \\nKnowledge of Business Requirement Documents BRD , Software Requirement Specification SRS , Functional \\nRequirement Document, Technical Reports and all other high-level and low-level documents \\nBuilding healthy business relations with major clients ensuring maximum customer satisfaction \\nWorked with sales managers and engineers to increase technical know-how and to advance negotiations towards close of sale. \\nTECHNICAL SKILLSET \\nProject Management Methodologies Waterfall and Agile \\nProject Management Tools Casual, MS Project, Slack \\nProject Documentation BRD, SRS, Modules Document, Functional Document, Flow Document, Project Timesheet. \\nPresentations Microsoft PowerPoint \\nData Analysis Microsoft Excel and Project Modules \\nPrototyping and Wireframing Balsamiq, Marvel \\nTechnologies Knowledge MVC, MVP, PL/SQL, HTML/CSS, CMS, Mobile Applications, API Integration and MS SQL \\nServer \\nAutomated Testing Responsinator, JIRA \\nOthers Photoshop, WordPress. \\nWORK EXPERIENCE \\nSince March 16 with Youngdecade Software IT Solutions, Indore as Business Analyst \\nKey Result Areas \\nWorking directly with product owners and stakeholders to elicit their feedback on customer satisfaction items. \\nAnalyzing existing customer satisfaction functionality requests for providing business-value based recommendations to Product Owners. \\nLead project meetings, Handling Multiple Projects at a time, Single point of contact between the client and the organization. \\nAttend Post Sales meetings with Project Manager for in-depth requirement gathering. \\nProject Planning, Project Scheduling, Project Efforts Estimations, Project Communications and Execution. \\nResponsible to Project management - Estimate task , Papered Timeline , check Project /Product status, Resource allocation, resource utilization, Business analysis and send daily status to management. \\nSupport to QA Team for test case preparation and review of test plans. \\nControls all changes through a formalized change request process, assessing the impact of requirement changes, and updating requirements appropriately Ability to work across different stakeholders and priorities and get everyone on-boarded with the overall prioritization of product backlog/roadmap items. \\nConducting requirements training sessions and developing best practices for product delivery. \\nPartnering with Development Leads to identify opportunities for better collaboration and process improvements. \\nLeading a team of 3 Junior Business Analyst and Business Developers promoting a strong culture of standard Business Development and Business Analysis processes as part of global standards \\nAccomplishments \\nCMS, Web Apps, Mobile Apps with Native Hybrid Technologies,B2B B2C Ecommerce Marketplaces, Restaurant, Cab Bookings, Real State, Hotel Booking Engines, Dating Application and complex business process project. \\nEstablished large, high-performance IT teams to support IT regional operations utilized local resources and established cost savings. \\nSingle point of contact between Project Management and IT groups from solution planning, sizing, to fulfillment. \\nJuly 15 Feb 16 with SNV InfoTech PVT, Indore as Business Analyst \\nKey Result Areas \\nAnalyzed user requirements, performed impact analysis and generated system requirements documents. \\nManaged relationship with programmers and bridged communication between end users and development team. \\nSupervised quality and completeness of System Use Cases/ BRDs. \\nCollaborated with the project team in solution development and implementation. \\nExperience in web development, Wireframe Creation, using Microsoft technology \\nPresented the business solution to the client. \\nActively participated in data modeling and business modeling \\nAccomplishments \\nSingle-handedly implemented a Train Location app to locate train and for live status. \\nDeveloped a Gaming code lottery system that was recognized by the gaming server to choose random winner with awarded game code. \\nDesign end to end data flow with the help of BPM and also preparing the screen mock ups and design and develop the application architecture. \\nMay 14 June 15 with Webdex Technologies., Indore as Business Analyst \\nResult Areas \\nUnderstanding of UML design. \\nProject Coordination with Developers and designers. \\nExcellent understanding of Business Requirements Gathering, Translating Requirements into Specifications and Application Design. \\nBidding on Freelancing Portals - UpWork, Elance, Freelancer, RFP Mart and Craigslist. \\nWordPress Website Development and Designing Skills with HTML/CSS. \\nManaged project activities such as requirement gathering, analysis and documentation. \\nPrepared test plans for the testing team and performed user acceptance testing in the final project \\nAccomplishment \\nSuccessfully implemented cutting-edge IT and Voice infrastructure for new building facilities. \\nEDUCATION \\nBachelor of Engineering Information Technology From RGPV University in 2014 \\nPERSONAL DETAILS \\nDate of Birth 05.06.1991 \\nPassport Available'"
      ]
     },
     "execution_count": 148,
     "metadata": {},
     "output_type": "execute_result"
    }
   ],
   "source": [
    "second_text"
   ]
  },
  {
   "cell_type": "code",
   "execution_count": 154,
   "id": "ecb97375",
   "metadata": {},
   "outputs": [],
   "source": [
    "my_doc1 = nlp(first_text)\n",
    "my_doc2 = nlp(second_text)\n",
    "my_doc3 = nlp(third_text)\n",
    "my_doc4 = nlp(fourth_text)\n",
    "my_doc5 = nlp(fifth_text)"
   ]
  },
  {
   "cell_type": "code",
   "execution_count": 179,
   "id": "60895e50",
   "metadata": {},
   "outputs": [
    {
     "name": "stdout",
     "output_type": "stream",
     "text": [
      "tokens in text before removing punctuations and stopwords 904\n",
      "tokens in text after removing punctuations and stopwords 586\n"
     ]
    }
   ],
   "source": [
    "token_list1 = []\n",
    "\n",
    "for token in my_doc1:\n",
    "    token_list1.append(token.text)\n",
    "\n",
    "print(\"tokens in text before removing punctuations and stopwords\",len(token_list1))\n",
    "text_doc1=nlp(my_doc1)\n",
    "\n",
    "token_count_after_filters1 = 0\n",
    "\n",
    "filtered_text1= [token for token in text_doc1 if not token.is_stop and not token.is_punct]\n",
    "\n",
    "for token in filtered_text1:\n",
    "    len(token)\n",
    "    token_count_after_filters1 +=1\n",
    "print(\"tokens in text after removing punctuations and stopwords\",token_count_after_filters1)"
   ]
  },
  {
   "cell_type": "code",
   "execution_count": 180,
   "id": "623fc909",
   "metadata": {},
   "outputs": [
    {
     "name": "stdout",
     "output_type": "stream",
     "text": [
      "tokens in text before removing punctuations and stopwords 1100\n",
      "tokens in text after removing punctuations and stopwords 751\n"
     ]
    }
   ],
   "source": [
    "token_list2 = []\n",
    "\n",
    "for token in my_doc2:\n",
    "    token_list2.append(token.text)\n",
    "\n",
    "print(\"tokens in text before removing punctuations and stopwords\",len(token_list2))\n",
    "text_doc2=nlp(my_doc2)\n",
    "\n",
    "token_count_after_filters2 = 0\n",
    "\n",
    "filtered_text2= [token for token in text_doc2 if not token.is_stop and not token.is_punct]\n",
    "\n",
    "for token in filtered_text2:\n",
    "    len(token)\n",
    "    token_count_after_filters2 +=1\n",
    "print(\"tokens in text after removing punctuations and stopwords\",token_count_after_filters2)"
   ]
  },
  {
   "cell_type": "code",
   "execution_count": 181,
   "id": "64d98647",
   "metadata": {},
   "outputs": [
    {
     "name": "stdout",
     "output_type": "stream",
     "text": [
      "tokens in text before removing punctuations and stopwords 2356\n",
      "tokens in text after removing punctuations and stopwords 1404\n"
     ]
    }
   ],
   "source": [
    "token_list3 = []\n",
    "\n",
    "for token in my_doc3:\n",
    "    token_list3.append(token.text)\n",
    "\n",
    "print(\"tokens in text before removing punctuations and stopwords\",len(token_list3))\n",
    "text_doc3=nlp(my_doc3)\n",
    "\n",
    "token_count_after_filters3 = 0\n",
    "\n",
    "filtered_text3= [token for token in text_doc3 if not token.is_stop and not token.is_punct]\n",
    "\n",
    "for token in filtered_text3:\n",
    "    len(token)\n",
    "    token_count_after_filters3 +=1\n",
    "print(\"tokens in text after removing punctuations and stopwords\",token_count_after_filters3)"
   ]
  },
  {
   "cell_type": "code",
   "execution_count": 182,
   "id": "2a293b14",
   "metadata": {},
   "outputs": [
    {
     "name": "stdout",
     "output_type": "stream",
     "text": [
      "tokens in text before removing punctuations and stopwords 1486\n",
      "tokens in text after removing punctuations and stopwords 1145\n"
     ]
    }
   ],
   "source": [
    "token_list4 = []\n",
    "\n",
    "for token in my_doc4:\n",
    "    token_list4.append(token.text)\n",
    "\n",
    "print(\"tokens in text before removing punctuations and stopwords\",len(token_list4))\n",
    "text_doc4=nlp(my_doc4)\n",
    "\n",
    "token_count_after_filters4 = 0\n",
    "\n",
    "filtered_text4= [token for token in text_doc4 if not token.is_stop and not token.is_punct]\n",
    "\n",
    "for token in filtered_text4:\n",
    "    len(token)\n",
    "    token_count_after_filters4 +=1\n",
    "print(\"tokens in text after removing punctuations and stopwords\",token_count_after_filters4)"
   ]
  },
  {
   "cell_type": "code",
   "execution_count": 183,
   "id": "6ea34ce2",
   "metadata": {},
   "outputs": [
    {
     "name": "stdout",
     "output_type": "stream",
     "text": [
      "tokens in text before removing punctuations and stopwords 1968\n",
      "tokens in text after removing punctuations and stopwords 1190\n"
     ]
    }
   ],
   "source": [
    "token_list5 = []\n",
    "\n",
    "for token in my_doc5:\n",
    "    token_list5.append(token.text)\n",
    "\n",
    "print(\"tokens in text before removing punctuations and stopwords\",len(token_list5))\n",
    "text_doc5=nlp(my_doc5)\n",
    "\n",
    "token_count_after_filters5 = 0\n",
    "\n",
    "filtered_text5= [token for token in text_doc5 if not token.is_stop and not token.is_punct]\n",
    "\n",
    "for token in filtered_text5:\n",
    "    len(token)\n",
    "    token_count_after_filters5 +=1\n",
    "print(\"tokens in text after removing punctuations and stopwords\",token_count_after_filters5)"
   ]
  },
  {
   "cell_type": "code",
   "execution_count": 185,
   "id": "35eee886",
   "metadata": {},
   "outputs": [],
   "source": [
    "preprocessed_data = [filtered_text1,filtered_text2,filtered_text3,filtered_text4,filtered_text5]"
   ]
  },
  {
   "cell_type": "code",
   "execution_count": 186,
   "id": "07caf32b",
   "metadata": {},
   "outputs": [],
   "source": [
    "df['preprocessed_data'] = preprocessed_data"
   ]
  },
  {
   "cell_type": "code",
   "execution_count": 190,
   "id": "1401c60a",
   "metadata": {},
   "outputs": [],
   "source": [
    "tokens_after_filter = [token_count_after_filters1,token_count_after_filters2, token_count_after_filters3, token_count_after_filters4, token_count_after_filters5]"
   ]
  },
  {
   "cell_type": "code",
   "execution_count": 191,
   "id": "ae720b36",
   "metadata": {},
   "outputs": [],
   "source": [
    "tokens_before_filter = [len(token_list1),len(token_list2),len(token_list3),len(token_list4),len(token_list5)]"
   ]
  },
  {
   "cell_type": "code",
   "execution_count": 192,
   "id": "fefcc9ab",
   "metadata": {},
   "outputs": [],
   "source": [
    "df['tokens_before_filter'] = tokens_before_filter"
   ]
  },
  {
   "cell_type": "code",
   "execution_count": 193,
   "id": "922ddb73",
   "metadata": {},
   "outputs": [],
   "source": [
    "df['tokens_after_filter'] = tokens_after_filter"
   ]
  },
  {
   "cell_type": "code",
   "execution_count": 194,
   "id": "ed357df2",
   "metadata": {},
   "outputs": [
    {
     "data": {
      "text/html": [
       "<div>\n",
       "<style scoped>\n",
       "    .dataframe tbody tr th:only-of-type {\n",
       "        vertical-align: middle;\n",
       "    }\n",
       "\n",
       "    .dataframe tbody tr th {\n",
       "        vertical-align: top;\n",
       "    }\n",
       "\n",
       "    .dataframe thead th {\n",
       "        text-align: right;\n",
       "    }\n",
       "</style>\n",
       "<table border=\"1\" class=\"dataframe\">\n",
       "  <thead>\n",
       "    <tr style=\"text-align: right;\">\n",
       "      <th></th>\n",
       "      <th>text</th>\n",
       "      <th>Email_address</th>\n",
       "      <th>years</th>\n",
       "      <th>Contact No</th>\n",
       "      <th>text_str</th>\n",
       "      <th>tokenized_sents</th>\n",
       "      <th>preprocessed_data</th>\n",
       "      <th>tokens_before_filter</th>\n",
       "      <th>tokens_after_filter</th>\n",
       "    </tr>\n",
       "  </thead>\n",
       "  <tbody>\n",
       "    <tr>\n",
       "      <th>0</th>\n",
       "      <td>Mohit Rao Niwadunge\\n\\t \\t Email ID mohit.niwa...</td>\n",
       "      <td>[mohit.niwadunge@gmail.com]</td>\n",
       "      <td>[2009, 2013, 2009, 2007]</td>\n",
       "      <td>[7000526216]</td>\n",
       "      <td>Mohit Rao Niwadunge\\n\\t \\t Email ID mohit.niwa...</td>\n",
       "      <td>[Mohit, Rao, Niwadunge, Email, ID, mohit.niwad...</td>\n",
       "      <td>[Mohit, Rao, Niwadunge, \\n\\t \\t , Email, ID, m...</td>\n",
       "      <td>904</td>\n",
       "      <td>586</td>\n",
       "    </tr>\n",
       "    <tr>\n",
       "      <th>1</th>\n",
       "      <td>ABHAY RAJ SINGH\\nBusiness Analyst \\nPROFESSION...</td>\n",
       "      <td>[]</td>\n",
       "      <td>[2014, 1991]</td>\n",
       "      <td>[]</td>\n",
       "      <td>ABHAY RAJ SINGH\\nBusiness Analyst \\nPROFESSION...</td>\n",
       "      <td>[ABHAY, RAJ, SINGH, Business, Analyst, PROFESS...</td>\n",
       "      <td>[ABHAY, RAJ, SINGH, \\n, Business, Analyst, \\n,...</td>\n",
       "      <td>1100</td>\n",
       "      <td>751</td>\n",
       "    </tr>\n",
       "    <tr>\n",
       "      <th>2</th>\n",
       "      <td>Abhilasha Shrivastava\\nE-Mail abhilasha101@gma...</td>\n",
       "      <td>[abhilasha101@gmail.com]</td>\n",
       "      <td>[2013, 2010, 2012, 2000, 2013, 1987]</td>\n",
       "      <td>[7415857918]</td>\n",
       "      <td>Abhilasha Shrivastava\\nE-Mail abhilasha101@gma...</td>\n",
       "      <td>[Abhilasha, Shrivastava, E-Mail, abhilasha101,...</td>\n",
       "      <td>[Abhilasha, Shrivastava, \\n, E, Mail, abhilash...</td>\n",
       "      <td>2356</td>\n",
       "      <td>1404</td>\n",
       "    </tr>\n",
       "    <tr>\n",
       "      <th>3</th>\n",
       "      <td>.\\nABHISHEK SINGH THAKUR\\nUI UX DESIGNER \\nH.N...</td>\n",
       "      <td>[abhishekthakur2006@gmail.com]</td>\n",
       "      <td>[2016, 1045, 2009, 2012, 2012, 2016, 2003, 200...</td>\n",
       "      <td>[9302761661]</td>\n",
       "      <td>.\\nABHISHEK SINGH THAKUR\\nUI UX DESIGNER \\nH.N...</td>\n",
       "      <td>[., ABHISHEK, SINGH, THAKUR, UI, UX, DESIGNER,...</td>\n",
       "      <td>[\\n, ABHISHEK, SINGH, THAKUR, \\n, UI, UX, DESI...</td>\n",
       "      <td>1486</td>\n",
       "      <td>1145</td>\n",
       "    </tr>\n",
       "    <tr>\n",
       "      <th>4</th>\n",
       "      <td>AMAN DAVID\\n115-B Anand Nagar Gawali Palasia, ...</td>\n",
       "      <td>[man.david12@gmail.com]</td>\n",
       "      <td>[2013, 2016, 1983, 2013, 2016, 2014]</td>\n",
       "      <td>[7987613585, 8818868853]</td>\n",
       "      <td>AMAN DAVID\\n115-B Anand Nagar Gawali Palasia, ...</td>\n",
       "      <td>[AMAN, DAVID, 115-B, Anand, Nagar, Gawali, Pal...</td>\n",
       "      <td>[AMAN, DAVID, \\n, 115, B, Anand, Nagar, Gawali...</td>\n",
       "      <td>1968</td>\n",
       "      <td>1190</td>\n",
       "    </tr>\n",
       "  </tbody>\n",
       "</table>\n",
       "</div>"
      ],
      "text/plain": [
       "                                                text  \\\n",
       "0  Mohit Rao Niwadunge\\n\\t \\t Email ID mohit.niwa...   \n",
       "1  ABHAY RAJ SINGH\\nBusiness Analyst \\nPROFESSION...   \n",
       "2  Abhilasha Shrivastava\\nE-Mail abhilasha101@gma...   \n",
       "3  .\\nABHISHEK SINGH THAKUR\\nUI UX DESIGNER \\nH.N...   \n",
       "4  AMAN DAVID\\n115-B Anand Nagar Gawali Palasia, ...   \n",
       "\n",
       "                    Email_address  \\\n",
       "0     [mohit.niwadunge@gmail.com]   \n",
       "1                              []   \n",
       "2        [abhilasha101@gmail.com]   \n",
       "3  [abhishekthakur2006@gmail.com]   \n",
       "4         [man.david12@gmail.com]   \n",
       "\n",
       "                                               years  \\\n",
       "0                           [2009, 2013, 2009, 2007]   \n",
       "1                                       [2014, 1991]   \n",
       "2               [2013, 2010, 2012, 2000, 2013, 1987]   \n",
       "3  [2016, 1045, 2009, 2012, 2012, 2016, 2003, 200...   \n",
       "4               [2013, 2016, 1983, 2013, 2016, 2014]   \n",
       "\n",
       "                 Contact No  \\\n",
       "0              [7000526216]   \n",
       "1                        []   \n",
       "2              [7415857918]   \n",
       "3              [9302761661]   \n",
       "4  [7987613585, 8818868853]   \n",
       "\n",
       "                                            text_str  \\\n",
       "0  Mohit Rao Niwadunge\\n\\t \\t Email ID mohit.niwa...   \n",
       "1  ABHAY RAJ SINGH\\nBusiness Analyst \\nPROFESSION...   \n",
       "2  Abhilasha Shrivastava\\nE-Mail abhilasha101@gma...   \n",
       "3  .\\nABHISHEK SINGH THAKUR\\nUI UX DESIGNER \\nH.N...   \n",
       "4  AMAN DAVID\\n115-B Anand Nagar Gawali Palasia, ...   \n",
       "\n",
       "                                     tokenized_sents  \\\n",
       "0  [Mohit, Rao, Niwadunge, Email, ID, mohit.niwad...   \n",
       "1  [ABHAY, RAJ, SINGH, Business, Analyst, PROFESS...   \n",
       "2  [Abhilasha, Shrivastava, E-Mail, abhilasha101,...   \n",
       "3  [., ABHISHEK, SINGH, THAKUR, UI, UX, DESIGNER,...   \n",
       "4  [AMAN, DAVID, 115-B, Anand, Nagar, Gawali, Pal...   \n",
       "\n",
       "                                   preprocessed_data  tokens_before_filter  \\\n",
       "0  [Mohit, Rao, Niwadunge, \\n\\t \\t , Email, ID, m...                   904   \n",
       "1  [ABHAY, RAJ, SINGH, \\n, Business, Analyst, \\n,...                  1100   \n",
       "2  [Abhilasha, Shrivastava, \\n, E, Mail, abhilash...                  2356   \n",
       "3  [\\n, ABHISHEK, SINGH, THAKUR, \\n, UI, UX, DESI...                  1486   \n",
       "4  [AMAN, DAVID, \\n, 115, B, Anand, Nagar, Gawali...                  1968   \n",
       "\n",
       "   tokens_after_filter  \n",
       "0                  586  \n",
       "1                  751  \n",
       "2                 1404  \n",
       "3                 1145  \n",
       "4                 1190  "
      ]
     },
     "execution_count": 194,
     "metadata": {},
     "output_type": "execute_result"
    }
   ],
   "source": [
    "df.head()"
   ]
  },
  {
   "cell_type": "code",
   "execution_count": 195,
   "id": "2aa2db4e",
   "metadata": {},
   "outputs": [
    {
     "data": {
      "text/plain": [
       "Index(['text', 'Email_address', 'years', 'Contact No', 'text_str',\n",
       "       'tokenized_sents', 'preprocessed_data', 'tokens_before_filter',\n",
       "       'tokens_after_filter'],\n",
       "      dtype='object')"
      ]
     },
     "execution_count": 195,
     "metadata": {},
     "output_type": "execute_result"
    }
   ],
   "source": [
    "df.columns"
   ]
  },
  {
   "cell_type": "code",
   "execution_count": 197,
   "id": "933244a5",
   "metadata": {},
   "outputs": [],
   "source": [
    "del df['text_str']"
   ]
  },
  {
   "cell_type": "code",
   "execution_count": 198,
   "id": "941e93e7",
   "metadata": {},
   "outputs": [],
   "source": [
    "del df['tokenized_sents']"
   ]
  },
  {
   "cell_type": "code",
   "execution_count": 200,
   "id": "df37d419",
   "metadata": {},
   "outputs": [
    {
     "data": {
      "text/html": [
       "<div>\n",
       "<style scoped>\n",
       "    .dataframe tbody tr th:only-of-type {\n",
       "        vertical-align: middle;\n",
       "    }\n",
       "\n",
       "    .dataframe tbody tr th {\n",
       "        vertical-align: top;\n",
       "    }\n",
       "\n",
       "    .dataframe thead th {\n",
       "        text-align: right;\n",
       "    }\n",
       "</style>\n",
       "<table border=\"1\" class=\"dataframe\">\n",
       "  <thead>\n",
       "    <tr style=\"text-align: right;\">\n",
       "      <th></th>\n",
       "      <th>text</th>\n",
       "      <th>Email_address</th>\n",
       "      <th>years</th>\n",
       "      <th>Contact No</th>\n",
       "      <th>preprocessed_data</th>\n",
       "      <th>tokens_before_filter</th>\n",
       "      <th>tokens_after_filter</th>\n",
       "    </tr>\n",
       "  </thead>\n",
       "  <tbody>\n",
       "    <tr>\n",
       "      <th>0</th>\n",
       "      <td>Mohit Rao Niwadunge\\n\\t \\t Email ID mohit.niwa...</td>\n",
       "      <td>[mohit.niwadunge@gmail.com]</td>\n",
       "      <td>[2009, 2013, 2009, 2007]</td>\n",
       "      <td>[7000526216]</td>\n",
       "      <td>[Mohit, Rao, Niwadunge, \\n\\t \\t , Email, ID, m...</td>\n",
       "      <td>904</td>\n",
       "      <td>586</td>\n",
       "    </tr>\n",
       "    <tr>\n",
       "      <th>1</th>\n",
       "      <td>ABHAY RAJ SINGH\\nBusiness Analyst \\nPROFESSION...</td>\n",
       "      <td>[]</td>\n",
       "      <td>[2014, 1991]</td>\n",
       "      <td>[]</td>\n",
       "      <td>[ABHAY, RAJ, SINGH, \\n, Business, Analyst, \\n,...</td>\n",
       "      <td>1100</td>\n",
       "      <td>751</td>\n",
       "    </tr>\n",
       "    <tr>\n",
       "      <th>2</th>\n",
       "      <td>Abhilasha Shrivastava\\nE-Mail abhilasha101@gma...</td>\n",
       "      <td>[abhilasha101@gmail.com]</td>\n",
       "      <td>[2013, 2010, 2012, 2000, 2013, 1987]</td>\n",
       "      <td>[7415857918]</td>\n",
       "      <td>[Abhilasha, Shrivastava, \\n, E, Mail, abhilash...</td>\n",
       "      <td>2356</td>\n",
       "      <td>1404</td>\n",
       "    </tr>\n",
       "    <tr>\n",
       "      <th>3</th>\n",
       "      <td>.\\nABHISHEK SINGH THAKUR\\nUI UX DESIGNER \\nH.N...</td>\n",
       "      <td>[abhishekthakur2006@gmail.com]</td>\n",
       "      <td>[2016, 1045, 2009, 2012, 2012, 2016, 2003, 200...</td>\n",
       "      <td>[9302761661]</td>\n",
       "      <td>[\\n, ABHISHEK, SINGH, THAKUR, \\n, UI, UX, DESI...</td>\n",
       "      <td>1486</td>\n",
       "      <td>1145</td>\n",
       "    </tr>\n",
       "    <tr>\n",
       "      <th>4</th>\n",
       "      <td>AMAN DAVID\\n115-B Anand Nagar Gawali Palasia, ...</td>\n",
       "      <td>[man.david12@gmail.com]</td>\n",
       "      <td>[2013, 2016, 1983, 2013, 2016, 2014]</td>\n",
       "      <td>[7987613585, 8818868853]</td>\n",
       "      <td>[AMAN, DAVID, \\n, 115, B, Anand, Nagar, Gawali...</td>\n",
       "      <td>1968</td>\n",
       "      <td>1190</td>\n",
       "    </tr>\n",
       "  </tbody>\n",
       "</table>\n",
       "</div>"
      ],
      "text/plain": [
       "                                                text  \\\n",
       "0  Mohit Rao Niwadunge\\n\\t \\t Email ID mohit.niwa...   \n",
       "1  ABHAY RAJ SINGH\\nBusiness Analyst \\nPROFESSION...   \n",
       "2  Abhilasha Shrivastava\\nE-Mail abhilasha101@gma...   \n",
       "3  .\\nABHISHEK SINGH THAKUR\\nUI UX DESIGNER \\nH.N...   \n",
       "4  AMAN DAVID\\n115-B Anand Nagar Gawali Palasia, ...   \n",
       "\n",
       "                    Email_address  \\\n",
       "0     [mohit.niwadunge@gmail.com]   \n",
       "1                              []   \n",
       "2        [abhilasha101@gmail.com]   \n",
       "3  [abhishekthakur2006@gmail.com]   \n",
       "4         [man.david12@gmail.com]   \n",
       "\n",
       "                                               years  \\\n",
       "0                           [2009, 2013, 2009, 2007]   \n",
       "1                                       [2014, 1991]   \n",
       "2               [2013, 2010, 2012, 2000, 2013, 1987]   \n",
       "3  [2016, 1045, 2009, 2012, 2012, 2016, 2003, 200...   \n",
       "4               [2013, 2016, 1983, 2013, 2016, 2014]   \n",
       "\n",
       "                 Contact No  \\\n",
       "0              [7000526216]   \n",
       "1                        []   \n",
       "2              [7415857918]   \n",
       "3              [9302761661]   \n",
       "4  [7987613585, 8818868853]   \n",
       "\n",
       "                                   preprocessed_data  tokens_before_filter  \\\n",
       "0  [Mohit, Rao, Niwadunge, \\n\\t \\t , Email, ID, m...                   904   \n",
       "1  [ABHAY, RAJ, SINGH, \\n, Business, Analyst, \\n,...                  1100   \n",
       "2  [Abhilasha, Shrivastava, \\n, E, Mail, abhilash...                  2356   \n",
       "3  [\\n, ABHISHEK, SINGH, THAKUR, \\n, UI, UX, DESI...                  1486   \n",
       "4  [AMAN, DAVID, \\n, 115, B, Anand, Nagar, Gawali...                  1968   \n",
       "\n",
       "   tokens_after_filter  \n",
       "0                  586  \n",
       "1                  751  \n",
       "2                 1404  \n",
       "3                 1145  \n",
       "4                 1190  "
      ]
     },
     "execution_count": 200,
     "metadata": {},
     "output_type": "execute_result"
    }
   ],
   "source": [
    "df.head()"
   ]
  },
  {
   "cell_type": "code",
   "execution_count": null,
   "id": "22309f05",
   "metadata": {},
   "outputs": [],
   "source": []
  }
 ],
 "metadata": {
  "kernelspec": {
   "display_name": "Python 3 (ipykernel)",
   "language": "python",
   "name": "python3"
  },
  "language_info": {
   "codemirror_mode": {
    "name": "ipython",
    "version": 3
   },
   "file_extension": ".py",
   "mimetype": "text/x-python",
   "name": "python",
   "nbconvert_exporter": "python",
   "pygments_lexer": "ipython3",
   "version": "3.9.7"
  }
 },
 "nbformat": 4,
 "nbformat_minor": 5
}
